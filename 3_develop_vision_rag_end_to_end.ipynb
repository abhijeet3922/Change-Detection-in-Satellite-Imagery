{
  "nbformat": 4,
  "nbformat_minor": 0,
  "metadata": {
    "colab": {
      "provenance": [],
      "gpuType": "T4",
      "include_colab_link": true
    },
    "kernelspec": {
      "name": "python3",
      "display_name": "Python 3"
    },
    "language_info": {
      "name": "python"
    },
    "accelerator": "GPU"
  },
  "cells": [
    {
      "cell_type": "markdown",
      "metadata": {
        "id": "view-in-github",
        "colab_type": "text"
      },
      "source": [
        "<a href=\"https://colab.research.google.com/github/abhijeet3922/Change-Detection-in-Satellite-Imagery/blob/master/3_develop_vision_rag_end_to_end.ipynb\" target=\"_parent\"><img src=\"https://colab.research.google.com/assets/colab-badge.svg\" alt=\"Open In Colab\"/></a>"
      ]
    },
    {
      "cell_type": "markdown",
      "source": [
        "## **End-to-End Visual Augmented Q&A Process: Vision-RAG**\n",
        "\n",
        "This notebook combines the first two example notebooks to develop end-to-end process of Vision-RAG. This is a two step process:\n",
        "- **Retrieval step**: Using Visual LM embedding (ColPali) to get best matching pages.\n",
        "- **Generation step**: Multi-modal LLM (Qwen) utilizes the retrieved pages, augments the prompt, and generates a final answer.\n",
        "\n",
        "Following are the code components for this notebook:\n",
        "1. [Installing Libraries & Imports](#)\n",
        "2. [Loading Visual Language Model (VLM): ColPali](#)\n",
        "3. [Ingest PDF Data as Embeddings](#)\n",
        "4. [Scoring: Retrieve Best Match with Query](#)\n",
        "5. [Load Multi-modal LLM: Qwen2.5-VL 3B](#)\n",
        "6. [Prepare Prompt with Retrieved Page](#)\n",
        "7. [Generate Answer: Model Inference](#)\n",
        "\n"
      ],
      "metadata": {
        "id": "5xQBbc17QHai"
      }
    },
    {
      "cell_type": "markdown",
      "source": [
        "### 1. Install Libraries & Imports"
      ],
      "metadata": {
        "id": "VxkY_F87DcsR"
      }
    },
    {
      "cell_type": "code",
      "execution_count": null,
      "metadata": {
        "id": "skAQJoUE55Kt"
      },
      "outputs": [],
      "source": [
        "!pip install pdf2image\n",
        "!pip install colpali-engine==0.3.9\n",
        "!sudo apt-get install poppler-utils"
      ]
    },
    {
      "cell_type": "code",
      "source": [
        "import torch\n",
        "import numpy as np\n",
        "from tqdm import tqdm\n",
        "import matplotlib.pyplot as plt\n",
        "from pdf2image import convert_from_path\n",
        "from torch.utils.data import DataLoader\n",
        "from colpali_engine.models import ColPali, ColPaliProcessor"
      ],
      "metadata": {
        "id": "hUzKRXs_Dg-Q"
      },
      "execution_count": null,
      "outputs": []
    },
    {
      "cell_type": "markdown",
      "source": [
        "### 2. Loading Visual Language Model (VLM): ColPali"
      ],
      "metadata": {
        "id": "UtGe88-KTTGC"
      }
    },
    {
      "cell_type": "code",
      "source": [
        "model_name = \"vidore/colpali-v1.3\"\n",
        "\n",
        "model = ColPali.from_pretrained(\n",
        "    model_name,\n",
        "    torch_dtype=torch.bfloat16,\n",
        "    device_map=\"auto\",  # or \"mps\" if on Apple Silicon\n",
        ").eval()\n",
        "\n",
        "processor = ColPaliProcessor.from_pretrained(model_name)"
      ],
      "metadata": {
        "id": "jCsxl9t8GSWB"
      },
      "execution_count": null,
      "outputs": []
    },
    {
      "cell_type": "markdown",
      "source": [
        "### 3. Ingest PDF Data as Embeddings"
      ],
      "metadata": {
        "id": "cFcAdJGLTYLS"
      }
    },
    {
      "cell_type": "code",
      "source": [
        "images = convert_from_path('/content/google-alphabet-2024.pdf')\n",
        "print(\"Number of pages:\", len(images))"
      ],
      "metadata": {
        "id": "AOaxEHBaDmHi"
      },
      "execution_count": null,
      "outputs": []
    },
    {
      "cell_type": "code",
      "source": [
        "dataloader = DataLoader(images,\n",
        "                        batch_size=1,\n",
        "                        shuffle=False,\n",
        "                        collate_fn=lambda x: processor.process_images(x).to(model.device))"
      ],
      "metadata": {
        "id": "tBq8uccqDtJ5"
      },
      "execution_count": null,
      "outputs": []
    },
    {
      "cell_type": "code",
      "source": [
        "dataset = []\n",
        "for batch in tqdm(dataloader):\n",
        "  with torch.no_grad():\n",
        "    batch = {k: v.to(model.device) for k,v in batch.items()}\n",
        "    embeddings = model(**batch)\n",
        "  dataset.extend(list(torch.unbind(embeddings.to(\"cpu\").to(torch.float32))))"
      ],
      "metadata": {
        "id": "_LvJtmY0Dypx"
      },
      "execution_count": null,
      "outputs": []
    },
    {
      "cell_type": "code",
      "source": [
        "query = [\"What is the revenue from Google Cloud for 2023 and 2024 ?\"]\n",
        "\n",
        "batch_queries = processor.process_queries(query).to(model.device)\n",
        "with torch.no_grad():\n",
        "  query_embeddings = model(**batch_queries)"
      ],
      "metadata": {
        "id": "6WvOTSOlD4TR"
      },
      "execution_count": null,
      "outputs": []
    },
    {
      "cell_type": "markdown",
      "source": [
        "### 4. Scoring: Retrieve Best Match with Query\n",
        "\n",
        "The **score_multi_vector** function is used to evaluate the similarity between multiple query vectors and document embeddings. It works by comparing different parts of a query with corresponding sections of a document, assigning a relevance score based on their match.\n",
        "\n",
        "How It Works ?\n",
        "1. <i>Breaks Down the Query</i> - Splits the query into multiple vectors.\n",
        "2. <i>Matches Against Document Patches</i> - Each query vector is compared with different sections (patches) of the document.\n",
        "3. <i>Computes Similarity Scores</i> - Calculates how well each query vector aligns with document patches using dot product similarity.\n",
        "4. <i>Aggregates the Scores</i> - The final score is a sum of individual matches to rank documents.\n",
        "\n",
        "This method ensures fine-grained retrieval also called <i>Late-Interation</i>, making it useful for visual document search where both text and layout matter"
      ],
      "metadata": {
        "id": "pfFexBd3T3bi"
      }
    },
    {
      "cell_type": "code",
      "source": [
        "def score(query_embedding, dataset):\n",
        "  scores = processor.score_multi_vector(query_embedding, dataset)\n",
        "  scores = np.array(scores)\n",
        "  matched_pages = scores.flatten().argsort()[::-1]\n",
        "  return scores, matched_pages"
      ],
      "metadata": {
        "id": "8sy2zYLPD66p"
      },
      "execution_count": null,
      "outputs": []
    },
    {
      "cell_type": "code",
      "source": [
        "scores, matched_pages = score(list(torch.unbind(query_embeddings.to(\"cpu\").to(torch.float32))),dataset)\n",
        "scores, matched_pages"
      ],
      "metadata": {
        "id": "fVYNyXCND-XB"
      },
      "execution_count": null,
      "outputs": []
    },
    {
      "cell_type": "code",
      "source": [
        "fig, ax = plt.subplots(figsize=(16, 12))\n",
        "ax.imshow(images[matched_pages[0]])\n",
        "ax.axis(\"off\")\n",
        "plt.show()"
      ],
      "metadata": {
        "id": "Or8AXvdREEiR"
      },
      "execution_count": null,
      "outputs": []
    },
    {
      "cell_type": "markdown",
      "source": [
        "### 5. Load Multi-modal LLM: Qwen2.5-VL 3B"
      ],
      "metadata": {
        "id": "2bRtac38T7VS"
      }
    },
    {
      "cell_type": "code",
      "source": [
        "!pip install qwen-vl-utils==0.0.08"
      ],
      "metadata": {
        "id": "P1v7ix940s7V"
      },
      "execution_count": null,
      "outputs": []
    },
    {
      "cell_type": "code",
      "source": [
        "from qwen_vl_utils import process_vision_info\n",
        "from transformers import Qwen2_5_VLForConditionalGeneration, AutoTokenizer, AutoProcessor"
      ],
      "metadata": {
        "id": "hPAQ_Sqt03XN"
      },
      "execution_count": null,
      "outputs": []
    },
    {
      "cell_type": "code",
      "source": [
        "# default: Load the model on the available device(s)\n",
        "model = Qwen2_5_VLForConditionalGeneration.from_pretrained(\n",
        "    \"Qwen/Qwen2.5-VL-3B-Instruct\", torch_dtype=\"auto\", device_map=\"auto\"\n",
        ")\n",
        "\n",
        "\n",
        "# default processer\n",
        "processor = AutoProcessor.from_pretrained(\"Qwen/Qwen2.5-VL-3B-Instruct\")"
      ],
      "metadata": {
        "id": "dwMQEZ_0EQdR"
      },
      "execution_count": null,
      "outputs": []
    },
    {
      "cell_type": "markdown",
      "source": [
        "### 6. Prepare Prompt with Retrieved Page"
      ],
      "metadata": {
        "id": "d9960zcpUJ6S"
      }
    },
    {
      "cell_type": "code",
      "source": [
        "messages = [\n",
        "\n",
        "    {\"role\": \"user\",\n",
        "     \"content\": [\n",
        "         {\"type\": \"image\",\n",
        "          \"image\": images[matched_pages[0]],\n",
        "          \"resized_height\": 1024,\n",
        "          \"resized_width\": 1024,\n",
        "         },\n",
        "        {\"type\": \"text\", \"text\": \"What is the revenue from Google Cloud for 2023 and 2024 ?\"}]},\n",
        "\n",
        "]"
      ],
      "metadata": {
        "id": "2tSh4lxeEc3J"
      },
      "execution_count": null,
      "outputs": []
    },
    {
      "cell_type": "code",
      "source": [
        "# Preparation for inference\n",
        "text = processor.apply_chat_template(\n",
        "    messages, tokenize=False, add_generation_prompt=True\n",
        ")\n",
        "image_inputs, video_inputs = process_vision_info(messages)\n",
        "inputs = processor(\n",
        "    text=[text],\n",
        "    images=image_inputs,\n",
        "    videos=video_inputs,\n",
        "    padding=True,\n",
        "    return_tensors=\"pt\",\n",
        ")\n",
        "inputs = inputs.to(\"cuda\")"
      ],
      "metadata": {
        "id": "p4xfx8faEnyx"
      },
      "execution_count": null,
      "outputs": []
    },
    {
      "cell_type": "markdown",
      "source": [
        "### 7. Generate Answer: Model Inference"
      ],
      "metadata": {
        "id": "SN432852UWWK"
      }
    },
    {
      "cell_type": "code",
      "source": [
        "# Inference: Generation of the output\n",
        "\n",
        "with torch.no_grad():\n",
        "  generated_ids = model.generate(**inputs, max_new_tokens=64)\n",
        "\n",
        "generated_ids_trimmed = [\n",
        "    out_ids[len(in_ids) :] for in_ids, out_ids in zip(inputs.input_ids, generated_ids)\n",
        "]\n",
        "output_text = processor.batch_decode(\n",
        "    generated_ids_trimmed, skip_special_tokens=True, clean_up_tokenization_spaces=False\n",
        ")\n",
        "print(output_text)"
      ],
      "metadata": {
        "id": "1KoW-ezJEoZZ"
      },
      "execution_count": null,
      "outputs": []
    }
  ]
}